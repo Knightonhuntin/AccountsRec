{
 "cells": [
  {
   "cell_type": "markdown",
   "metadata": {},
   "source": [
    "# Data Exploration and Mining of Customer Accounts Receivable from the IBM Public Sample Dataset \n",
    "Late payments can cause havoc on a company's cashflow. A model to predict if a customer would be late on a payment can generate insight on extending credit to that customer. It can also assist a company with prioritizing production and delivery of products to customers who will pay on time."
   ]
  },
  {
   "cell_type": "code",
   "execution_count": 33,
   "metadata": {},
   "outputs": [],
   "source": [
    "import numpy as np\n",
    "import pandas as pd\n",
    "import seaborn as sns\n",
    "import matplotlib.pyplot as plt\n",
    "from scipy import stats"
   ]
  },
  {
   "cell_type": "markdown",
   "metadata": {},
   "source": [
    "## Load the Data Set and Sort by Date"
   ]
  },
  {
   "cell_type": "code",
   "execution_count": 34,
   "metadata": {},
   "outputs": [
    {
     "name": "stdout",
     "output_type": "stream",
     "text": [
      "      countryCode  customerID PaperlessDate  invoiceNumber InvoiceDate  \\\n",
      "1279          391  6708-DPYTF      8/2/2012     5133177585  2012-01-03   \n",
      "75            770  3993-QUNVJ    12/31/2012      280670965  2012-01-03   \n",
      "1584          406  5164-VMYWJ    11/27/2013     6393629835  2012-01-03   \n",
      "1460          818  1604-LIFKX     3/16/2013     5928070131  2012-01-03   \n",
      "1494          818  8887-NCUZC     1/22/2013     6050714721  2012-01-03   \n",
      "\n",
      "       DueDate  InvoiceAmount Disputed SettledDate PaperlessBill  \\\n",
      "1279  2/2/2012          55.37       No   2/16/2012         Paper   \n",
      "75    2/2/2012          50.39       No   1/23/2012         Paper   \n",
      "1584  2/2/2012          71.33       No   1/30/2012         Paper   \n",
      "1460  2/2/2012          97.60       No   2/25/2012         Paper   \n",
      "1494  2/2/2012          15.99      Yes   2/15/2012         Paper   \n",
      "\n",
      "      DaysToSettle  DaysLate  \n",
      "1279            44        14  \n",
      "75              20         0  \n",
      "1584            27         0  \n",
      "1460            53        23  \n",
      "1494            43        13  \n",
      "\n",
      "\n",
      "\n",
      "This dataset has: 2466  entries\n"
     ]
    }
   ],
   "source": [
    "df_original = pd.read_csv(\"WA_Fn-UseC_-Accounts-Receivable (1).csv\")\n",
    "df_original['InvoiceDate']= pd.to_datetime(df_original.InvoiceDate)\n",
    "df_dropped =df_original.sort_values(by=['InvoiceDate'])\n",
    "print(df_dropped.head())\n",
    "print(\"\\n\\n\\nThis dataset has:\",len(df_dropped),\" entries\")"
   ]
  },
  {
   "cell_type": "code",
   "execution_count": 35,
   "metadata": {},
   "outputs": [],
   "source": [
    "#generate the late dependent variable\n",
    "df_dropped['Late'] = df_dropped['DaysLate'].apply(lambda x: 1 if x >0 else 0)"
   ]
  },
  {
   "cell_type": "code",
   "execution_count": 36,
   "metadata": {},
   "outputs": [],
   "source": [
    "# generate a rolling count of the amount of late payments for each customer\n",
    "df_dropped['countlate']=df_dropped.Late.eq(1).groupby(df_dropped.customerID).apply(\n",
    "    lambda x : x.cumsum().shift().fillna(0)).astype(int)\n"
   ]
  },
  {
   "cell_type": "markdown",
   "metadata": {},
   "source": [
    "## Initial Exploration of the Dataset"
   ]
  },
  {
   "cell_type": "markdown",
   "metadata": {},
   "source": [
    "#### Database Structure and Analysis\n",
    "    "
   ]
  },
  {
   "cell_type": "code",
   "execution_count": 37,
   "metadata": {},
   "outputs": [
    {
     "name": "stdout",
     "output_type": "stream",
     "text": [
      "<class 'pandas.core.frame.DataFrame'>\n",
      "Int64Index: 2466 entries, 1279 to 2046\n",
      "Data columns (total 14 columns):\n",
      "countryCode      2466 non-null int64\n",
      "customerID       2466 non-null object\n",
      "PaperlessDate    2466 non-null object\n",
      "invoiceNumber    2466 non-null int64\n",
      "InvoiceDate      2466 non-null datetime64[ns]\n",
      "DueDate          2466 non-null object\n",
      "InvoiceAmount    2466 non-null float64\n",
      "Disputed         2466 non-null object\n",
      "SettledDate      2466 non-null object\n",
      "PaperlessBill    2466 non-null object\n",
      "DaysToSettle     2466 non-null int64\n",
      "DaysLate         2466 non-null int64\n",
      "Late             2466 non-null int64\n",
      "countlate        2466 non-null int32\n",
      "dtypes: datetime64[ns](1), float64(1), int32(1), int64(5), object(6)\n",
      "memory usage: 359.4+ KB\n"
     ]
    }
   ],
   "source": [
    "df_dropped.info()"
   ]
  },
  {
   "cell_type": "code",
   "execution_count": 38,
   "metadata": {},
   "outputs": [
    {
     "data": {
      "text/html": [
       "<div>\n",
       "<style scoped>\n",
       "    .dataframe tbody tr th:only-of-type {\n",
       "        vertical-align: middle;\n",
       "    }\n",
       "\n",
       "    .dataframe tbody tr th {\n",
       "        vertical-align: top;\n",
       "    }\n",
       "\n",
       "    .dataframe thead th {\n",
       "        text-align: right;\n",
       "    }\n",
       "</style>\n",
       "<table border=\"1\" class=\"dataframe\">\n",
       "  <thead>\n",
       "    <tr style=\"text-align: right;\">\n",
       "      <th></th>\n",
       "      <th>customerID</th>\n",
       "      <th>PaperlessDate</th>\n",
       "      <th>DueDate</th>\n",
       "      <th>Disputed</th>\n",
       "      <th>SettledDate</th>\n",
       "      <th>PaperlessBill</th>\n",
       "    </tr>\n",
       "  </thead>\n",
       "  <tbody>\n",
       "    <tr>\n",
       "      <th>count</th>\n",
       "      <td>2466</td>\n",
       "      <td>2466</td>\n",
       "      <td>2466</td>\n",
       "      <td>2466</td>\n",
       "      <td>2466</td>\n",
       "      <td>2466</td>\n",
       "    </tr>\n",
       "    <tr>\n",
       "      <th>unique</th>\n",
       "      <td>100</td>\n",
       "      <td>91</td>\n",
       "      <td>681</td>\n",
       "      <td>2</td>\n",
       "      <td>695</td>\n",
       "      <td>2</td>\n",
       "    </tr>\n",
       "    <tr>\n",
       "      <th>top</th>\n",
       "      <td>9149-MATVB</td>\n",
       "      <td>3/3/2012</td>\n",
       "      <td>1/29/2013</td>\n",
       "      <td>No</td>\n",
       "      <td>5/28/2013</td>\n",
       "      <td>Paper</td>\n",
       "    </tr>\n",
       "    <tr>\n",
       "      <th>freq</th>\n",
       "      <td>36</td>\n",
       "      <td>58</td>\n",
       "      <td>10</td>\n",
       "      <td>1905</td>\n",
       "      <td>10</td>\n",
       "      <td>1263</td>\n",
       "    </tr>\n",
       "  </tbody>\n",
       "</table>\n",
       "</div>"
      ],
      "text/plain": [
       "        customerID PaperlessDate    DueDate Disputed SettledDate PaperlessBill\n",
       "count         2466          2466       2466     2466        2466          2466\n",
       "unique         100            91        681        2         695             2\n",
       "top     9149-MATVB      3/3/2012  1/29/2013       No   5/28/2013         Paper\n",
       "freq            36            58         10     1905          10          1263"
      ]
     },
     "execution_count": 38,
     "metadata": {},
     "output_type": "execute_result"
    }
   ],
   "source": [
    "df_dropped.describe(include=np.object)\n"
   ]
  },
  {
   "cell_type": "markdown",
   "metadata": {},
   "source": [
    "#### Frequency of Categorical Variables\n",
    "Frequency tables quickly describe the data and the amount time a given categorical variable shows up in our dataset."
   ]
  },
  {
   "cell_type": "code",
   "execution_count": 39,
   "metadata": {},
   "outputs": [
    {
     "name": "stdout",
     "output_type": "stream",
     "text": [
      "col_0     count\n",
      "Disputed       \n",
      "No         1905\n",
      "Yes         561\n",
      "col_0       count\n",
      "customerID       \n",
      "0187-ERLSR     16\n",
      "0379-NEVHP     27\n",
      "0465-DTULQ     26\n",
      "0625-TNJFG     28\n",
      "0688-XNJRO     34\n",
      "0706-NRGUP     18\n",
      "0709-LZRJV     25\n",
      "0783-PEPYR     21\n",
      "1080-NDGAE     31\n",
      "1168-BEASA     23\n",
      "1408-OQZUE     23\n",
      "1447-YZKCL     23\n",
      "1604-LIFKX     20\n",
      "2026-XLBER     21\n",
      "2125-HJDLA     21\n",
      "2423-QOKIO     21\n",
      "2447-JCFGW     23\n",
      "2621-XCLEH     15\n",
      "2676-DZINU     26\n",
      "2687-XWAMA     28\n",
      "2820-XGXSB     24\n",
      "2824-HJQPP     30\n",
      "3271-HYHDN     18\n",
      "3271-YDPUJ     19\n",
      "3448-OWJOT     28\n",
      "3568-JJMFW     28\n",
      "3569-VJWXS     24\n",
      "3598-DNURW     20\n",
      "3676-CQAIF     17\n",
      "3831-FXWYK     26\n",
      "...           ...\n",
      "7841-HROAQ     22\n",
      "7856-ODQFO     28\n",
      "7938-EVASK     21\n",
      "7946-HJDUR     30\n",
      "8102-ABPKQ     27\n",
      "8156-PCYBM     31\n",
      "8364-UWVLM     21\n",
      "8389-TCXFQ     33\n",
      "8690-EEBEO     31\n",
      "8820-BLYDZ     24\n",
      "8887-NCUZC     35\n",
      "8942-ERSWK     30\n",
      "8976-AMJEO     27\n",
      "9014-WENVB     22\n",
      "9117-LYRCE     23\n",
      "9149-MATVB     36\n",
      "9174-IYKOC     29\n",
      "9181-HEKGV     23\n",
      "9212-BTDMX     28\n",
      "9250-VHLWY     26\n",
      "9286-VLKMI     34\n",
      "9322-YCTQO     19\n",
      "9323-NDIOV     27\n",
      "9460-VAZGD     20\n",
      "9725-EZTEJ     26\n",
      "9758-AIEIK     21\n",
      "9771-QTLGZ     22\n",
      "9841-XLGBV     20\n",
      "9883-SDWFS     31\n",
      "9928-IJYBQ     22\n",
      "\n",
      "[100 rows x 1 columns]\n",
      "col_0        count\n",
      "countryCode       \n",
      "391            616\n",
      "406            561\n",
      "770            506\n",
      "818            387\n",
      "897            396\n",
      "col_0  count\n",
      "Late        \n",
      "0       1589\n",
      "1        877\n"
     ]
    }
   ],
   "source": [
    "print(pd.crosstab(index=df_dropped[\"Disputed\"], columns=\"count\"))\n",
    "print(pd.crosstab(index=df_dropped[\"customerID\"], columns = \"count\"))\n",
    "print(pd.crosstab(index=df_dropped[\"countryCode\"], columns=\"count\"))\n",
    "print(pd.crosstab(index=df_dropped[\"Late\"], columns=\"count\"))\n"
   ]
  },
  {
   "cell_type": "markdown",
   "metadata": {},
   "source": [
    "#### Which customers are late to pay the most often?\n",
    "It may be important to know who is always late with payments. It is also useful to know which customers never are late. You may want to extend benefits to those who always pay on time. On the contrary you may want to put extra stipulations on those who are habitually late on payments. "
   ]
  },
  {
   "cell_type": "code",
   "execution_count": 40,
   "metadata": {},
   "outputs": [
    {
     "data": {
      "text/html": [
       "<div>\n",
       "<style scoped>\n",
       "    .dataframe tbody tr th:only-of-type {\n",
       "        vertical-align: middle;\n",
       "    }\n",
       "\n",
       "    .dataframe tbody tr th {\n",
       "        vertical-align: top;\n",
       "    }\n",
       "\n",
       "    .dataframe thead th {\n",
       "        text-align: right;\n",
       "    }\n",
       "</style>\n",
       "<table border=\"1\" class=\"dataframe\">\n",
       "  <thead>\n",
       "    <tr style=\"text-align: right;\">\n",
       "      <th>Late</th>\n",
       "      <th>0</th>\n",
       "      <th>1</th>\n",
       "    </tr>\n",
       "    <tr>\n",
       "      <th>customerID</th>\n",
       "      <th></th>\n",
       "      <th></th>\n",
       "    </tr>\n",
       "  </thead>\n",
       "  <tbody>\n",
       "    <tr>\n",
       "      <th>0688-XNJRO</th>\n",
       "      <td>2</td>\n",
       "      <td>32</td>\n",
       "    </tr>\n",
       "    <tr>\n",
       "      <th>8102-ABPKQ</th>\n",
       "      <td>1</td>\n",
       "      <td>26</td>\n",
       "    </tr>\n",
       "    <tr>\n",
       "      <th>8690-EEBEO</th>\n",
       "      <td>5</td>\n",
       "      <td>26</td>\n",
       "    </tr>\n",
       "    <tr>\n",
       "      <th>6708-DPYTF</th>\n",
       "      <td>5</td>\n",
       "      <td>25</td>\n",
       "    </tr>\n",
       "    <tr>\n",
       "      <th>4460-ZXNDN</th>\n",
       "      <td>3</td>\n",
       "      <td>25</td>\n",
       "    </tr>\n",
       "    <tr>\n",
       "      <th>3448-OWJOT</th>\n",
       "      <td>5</td>\n",
       "      <td>23</td>\n",
       "    </tr>\n",
       "    <tr>\n",
       "      <th>7228-LEPPM</th>\n",
       "      <td>1</td>\n",
       "      <td>23</td>\n",
       "    </tr>\n",
       "    <tr>\n",
       "      <th>9883-SDWFS</th>\n",
       "      <td>8</td>\n",
       "      <td>23</td>\n",
       "    </tr>\n",
       "    <tr>\n",
       "      <th>8887-NCUZC</th>\n",
       "      <td>13</td>\n",
       "      <td>22</td>\n",
       "    </tr>\n",
       "    <tr>\n",
       "      <th>7758-WKLVM</th>\n",
       "      <td>3</td>\n",
       "      <td>20</td>\n",
       "    </tr>\n",
       "    <tr>\n",
       "      <th>5613-UHVMG</th>\n",
       "      <td>2</td>\n",
       "      <td>20</td>\n",
       "    </tr>\n",
       "    <tr>\n",
       "      <th>5573-KSOIA</th>\n",
       "      <td>4</td>\n",
       "      <td>20</td>\n",
       "    </tr>\n",
       "    <tr>\n",
       "      <th>0783-PEPYR</th>\n",
       "      <td>1</td>\n",
       "      <td>20</td>\n",
       "    </tr>\n",
       "    <tr>\n",
       "      <th>1604-LIFKX</th>\n",
       "      <td>0</td>\n",
       "      <td>20</td>\n",
       "    </tr>\n",
       "    <tr>\n",
       "      <th>9117-LYRCE</th>\n",
       "      <td>4</td>\n",
       "      <td>19</td>\n",
       "    </tr>\n",
       "    <tr>\n",
       "      <th>3831-FXWYK</th>\n",
       "      <td>7</td>\n",
       "      <td>19</td>\n",
       "    </tr>\n",
       "    <tr>\n",
       "      <th>9181-HEKGV</th>\n",
       "      <td>4</td>\n",
       "      <td>19</td>\n",
       "    </tr>\n",
       "    <tr>\n",
       "      <th>1080-NDGAE</th>\n",
       "      <td>13</td>\n",
       "      <td>18</td>\n",
       "    </tr>\n",
       "    <tr>\n",
       "      <th>7938-EVASK</th>\n",
       "      <td>4</td>\n",
       "      <td>17</td>\n",
       "    </tr>\n",
       "    <tr>\n",
       "      <th>9322-YCTQO</th>\n",
       "      <td>2</td>\n",
       "      <td>17</td>\n",
       "    </tr>\n",
       "    <tr>\n",
       "      <th>9928-IJYBQ</th>\n",
       "      <td>5</td>\n",
       "      <td>17</td>\n",
       "    </tr>\n",
       "    <tr>\n",
       "      <th>2125-HJDLA</th>\n",
       "      <td>5</td>\n",
       "      <td>16</td>\n",
       "    </tr>\n",
       "    <tr>\n",
       "      <th>1408-OQZUE</th>\n",
       "      <td>7</td>\n",
       "      <td>16</td>\n",
       "    </tr>\n",
       "    <tr>\n",
       "      <th>4632-QZOKX</th>\n",
       "      <td>2</td>\n",
       "      <td>15</td>\n",
       "    </tr>\n",
       "    <tr>\n",
       "      <th>1447-YZKCL</th>\n",
       "      <td>8</td>\n",
       "      <td>15</td>\n",
       "    </tr>\n",
       "    <tr>\n",
       "      <th>5529-TBPGK</th>\n",
       "      <td>8</td>\n",
       "      <td>15</td>\n",
       "    </tr>\n",
       "    <tr>\n",
       "      <th>3676-CQAIF</th>\n",
       "      <td>2</td>\n",
       "      <td>15</td>\n",
       "    </tr>\n",
       "    <tr>\n",
       "      <th>2621-XCLEH</th>\n",
       "      <td>1</td>\n",
       "      <td>14</td>\n",
       "    </tr>\n",
       "    <tr>\n",
       "      <th>0465-DTULQ</th>\n",
       "      <td>12</td>\n",
       "      <td>14</td>\n",
       "    </tr>\n",
       "    <tr>\n",
       "      <th>7209-MDWKR</th>\n",
       "      <td>10</td>\n",
       "      <td>14</td>\n",
       "    </tr>\n",
       "    <tr>\n",
       "      <th>...</th>\n",
       "      <td>...</td>\n",
       "      <td>...</td>\n",
       "    </tr>\n",
       "    <tr>\n",
       "      <th>6833-ETVHD</th>\n",
       "      <td>31</td>\n",
       "      <td>2</td>\n",
       "    </tr>\n",
       "    <tr>\n",
       "      <th>5284-DJOZO</th>\n",
       "      <td>28</td>\n",
       "      <td>2</td>\n",
       "    </tr>\n",
       "    <tr>\n",
       "      <th>6391-GBFQJ</th>\n",
       "      <td>17</td>\n",
       "      <td>2</td>\n",
       "    </tr>\n",
       "    <tr>\n",
       "      <th>5920-DPXLN</th>\n",
       "      <td>26</td>\n",
       "      <td>2</td>\n",
       "    </tr>\n",
       "    <tr>\n",
       "      <th>7260-ZHAKS</th>\n",
       "      <td>21</td>\n",
       "      <td>2</td>\n",
       "    </tr>\n",
       "    <tr>\n",
       "      <th>8942-ERSWK</th>\n",
       "      <td>29</td>\n",
       "      <td>1</td>\n",
       "    </tr>\n",
       "    <tr>\n",
       "      <th>9212-BTDMX</th>\n",
       "      <td>27</td>\n",
       "      <td>1</td>\n",
       "    </tr>\n",
       "    <tr>\n",
       "      <th>6160-HCSFI</th>\n",
       "      <td>29</td>\n",
       "      <td>1</td>\n",
       "    </tr>\n",
       "    <tr>\n",
       "      <th>7372-CESLR</th>\n",
       "      <td>24</td>\n",
       "      <td>1</td>\n",
       "    </tr>\n",
       "    <tr>\n",
       "      <th>2026-XLBER</th>\n",
       "      <td>20</td>\n",
       "      <td>1</td>\n",
       "    </tr>\n",
       "    <tr>\n",
       "      <th>2687-XWAMA</th>\n",
       "      <td>27</td>\n",
       "      <td>1</td>\n",
       "    </tr>\n",
       "    <tr>\n",
       "      <th>0379-NEVHP</th>\n",
       "      <td>26</td>\n",
       "      <td>1</td>\n",
       "    </tr>\n",
       "    <tr>\n",
       "      <th>6077-FDQRK</th>\n",
       "      <td>27</td>\n",
       "      <td>1</td>\n",
       "    </tr>\n",
       "    <tr>\n",
       "      <th>7695-NKUXM</th>\n",
       "      <td>19</td>\n",
       "      <td>0</td>\n",
       "    </tr>\n",
       "    <tr>\n",
       "      <th>3598-DNURW</th>\n",
       "      <td>20</td>\n",
       "      <td>0</td>\n",
       "    </tr>\n",
       "    <tr>\n",
       "      <th>2676-DZINU</th>\n",
       "      <td>26</td>\n",
       "      <td>0</td>\n",
       "    </tr>\n",
       "    <tr>\n",
       "      <th>9771-QTLGZ</th>\n",
       "      <td>22</td>\n",
       "      <td>0</td>\n",
       "    </tr>\n",
       "    <tr>\n",
       "      <th>2820-XGXSB</th>\n",
       "      <td>24</td>\n",
       "      <td>0</td>\n",
       "    </tr>\n",
       "    <tr>\n",
       "      <th>9460-VAZGD</th>\n",
       "      <td>20</td>\n",
       "      <td>0</td>\n",
       "    </tr>\n",
       "    <tr>\n",
       "      <th>3271-HYHDN</th>\n",
       "      <td>18</td>\n",
       "      <td>0</td>\n",
       "    </tr>\n",
       "    <tr>\n",
       "      <th>3993-QUNVJ</th>\n",
       "      <td>25</td>\n",
       "      <td>0</td>\n",
       "    </tr>\n",
       "    <tr>\n",
       "      <th>9286-VLKMI</th>\n",
       "      <td>34</td>\n",
       "      <td>0</td>\n",
       "    </tr>\n",
       "    <tr>\n",
       "      <th>8820-BLYDZ</th>\n",
       "      <td>24</td>\n",
       "      <td>0</td>\n",
       "    </tr>\n",
       "    <tr>\n",
       "      <th>4092-ZAVRG</th>\n",
       "      <td>21</td>\n",
       "      <td>0</td>\n",
       "    </tr>\n",
       "    <tr>\n",
       "      <th>6004-KITZM</th>\n",
       "      <td>18</td>\n",
       "      <td>0</td>\n",
       "    </tr>\n",
       "    <tr>\n",
       "      <th>6177-VTITE</th>\n",
       "      <td>21</td>\n",
       "      <td>0</td>\n",
       "    </tr>\n",
       "    <tr>\n",
       "      <th>6296-UKEUZ</th>\n",
       "      <td>19</td>\n",
       "      <td>0</td>\n",
       "    </tr>\n",
       "    <tr>\n",
       "      <th>6632-CGYHU</th>\n",
       "      <td>20</td>\n",
       "      <td>0</td>\n",
       "    </tr>\n",
       "    <tr>\n",
       "      <th>7245-CKNCN</th>\n",
       "      <td>17</td>\n",
       "      <td>0</td>\n",
       "    </tr>\n",
       "    <tr>\n",
       "      <th>0187-ERLSR</th>\n",
       "      <td>16</td>\n",
       "      <td>0</td>\n",
       "    </tr>\n",
       "  </tbody>\n",
       "</table>\n",
       "<p>100 rows × 2 columns</p>\n",
       "</div>"
      ],
      "text/plain": [
       "Late         0   1\n",
       "customerID        \n",
       "0688-XNJRO   2  32\n",
       "8102-ABPKQ   1  26\n",
       "8690-EEBEO   5  26\n",
       "6708-DPYTF   5  25\n",
       "4460-ZXNDN   3  25\n",
       "3448-OWJOT   5  23\n",
       "7228-LEPPM   1  23\n",
       "9883-SDWFS   8  23\n",
       "8887-NCUZC  13  22\n",
       "7758-WKLVM   3  20\n",
       "5613-UHVMG   2  20\n",
       "5573-KSOIA   4  20\n",
       "0783-PEPYR   1  20\n",
       "1604-LIFKX   0  20\n",
       "9117-LYRCE   4  19\n",
       "3831-FXWYK   7  19\n",
       "9181-HEKGV   4  19\n",
       "1080-NDGAE  13  18\n",
       "7938-EVASK   4  17\n",
       "9322-YCTQO   2  17\n",
       "9928-IJYBQ   5  17\n",
       "2125-HJDLA   5  16\n",
       "1408-OQZUE   7  16\n",
       "4632-QZOKX   2  15\n",
       "1447-YZKCL   8  15\n",
       "5529-TBPGK   8  15\n",
       "3676-CQAIF   2  15\n",
       "2621-XCLEH   1  14\n",
       "0465-DTULQ  12  14\n",
       "7209-MDWKR  10  14\n",
       "...         ..  ..\n",
       "6833-ETVHD  31   2\n",
       "5284-DJOZO  28   2\n",
       "6391-GBFQJ  17   2\n",
       "5920-DPXLN  26   2\n",
       "7260-ZHAKS  21   2\n",
       "8942-ERSWK  29   1\n",
       "9212-BTDMX  27   1\n",
       "6160-HCSFI  29   1\n",
       "7372-CESLR  24   1\n",
       "2026-XLBER  20   1\n",
       "2687-XWAMA  27   1\n",
       "0379-NEVHP  26   1\n",
       "6077-FDQRK  27   1\n",
       "7695-NKUXM  19   0\n",
       "3598-DNURW  20   0\n",
       "2676-DZINU  26   0\n",
       "9771-QTLGZ  22   0\n",
       "2820-XGXSB  24   0\n",
       "9460-VAZGD  20   0\n",
       "3271-HYHDN  18   0\n",
       "3993-QUNVJ  25   0\n",
       "9286-VLKMI  34   0\n",
       "8820-BLYDZ  24   0\n",
       "4092-ZAVRG  21   0\n",
       "6004-KITZM  18   0\n",
       "6177-VTITE  21   0\n",
       "6296-UKEUZ  19   0\n",
       "6632-CGYHU  20   0\n",
       "7245-CKNCN  17   0\n",
       "0187-ERLSR  16   0\n",
       "\n",
       "[100 rows x 2 columns]"
      ]
     },
     "execution_count": 40,
     "metadata": {},
     "output_type": "execute_result"
    }
   ],
   "source": [
    "customer_latecount =pd.crosstab(index=df_dropped[\"customerID\"], columns=df_dropped['Late'])\n",
    "customer_latecount.sort_values(by=[1], ascending = False)"
   ]
  },
  {
   "cell_type": "markdown",
   "metadata": {},
   "source": [
    "### Generate more features and map the some of the categorical variables to integers\n",
    "Map some of the categorical variables to integers. It is also helpful to generate some more insights about a customer given the data. For example if the order occurs at the end of the year is a company more likely to pay on time?"
   ]
  },
  {
   "cell_type": "code",
   "execution_count": 41,
   "metadata": {},
   "outputs": [],
   "source": [
    "df_dropped['Disputed'] = df_dropped['Disputed'].map({'No':0,'Yes':1})\n",
    "df_dropped['PaperlessBill'] = df_dropped['PaperlessBill'].map({'Paper': 0,'Electronic': 1})\n"
   ]
  },
  {
   "cell_type": "code",
   "execution_count": 42,
   "metadata": {},
   "outputs": [],
   "source": [
    "df_dropped['InvoiceQuarter']= pd.to_datetime(df_dropped['InvoiceDate']).dt.quarter\n",
    "df_dropped['SettleTime'] = pd.to_datetime(df_dropped['SettledDate'])- pd.to_datetime(df_dropped['InvoiceDate'])\n"
   ]
  },
  {
   "cell_type": "markdown",
   "metadata": {},
   "source": [
    "## How many payments are late by other variables?\n",
    "Generate some visualizations to help understand some of the categorical variables better. "
   ]
  },
  {
   "cell_type": "code",
   "execution_count": 43,
   "metadata": {},
   "outputs": [
    {
     "ename": "AttributeError",
     "evalue": "module 'seaborn' has no attribute 'correlation'",
     "output_type": "error",
     "traceback": [
      "\u001b[1;31m---------------------------------------------------------------------------\u001b[0m",
      "\u001b[1;31mAttributeError\u001b[0m                            Traceback (most recent call last)",
      "\u001b[1;32m<ipython-input-43-609ff98dd2b6>\u001b[0m in \u001b[0;36m<module>\u001b[1;34m\u001b[0m\n\u001b[0;32m     37\u001b[0m \u001b[1;33m\u001b[0m\u001b[0m\n\u001b[0;32m     38\u001b[0m \u001b[0mplt\u001b[0m\u001b[1;33m.\u001b[0m\u001b[0mfigure\u001b[0m\u001b[1;33m(\u001b[0m\u001b[1;36m5\u001b[0m\u001b[1;33m)\u001b[0m\u001b[1;33m\u001b[0m\u001b[1;33m\u001b[0m\u001b[0m\n\u001b[1;32m---> 39\u001b[1;33m \u001b[0msns\u001b[0m\u001b[1;33m.\u001b[0m\u001b[0mcorrelation\u001b[0m\u001b[1;33m(\u001b[0m\u001b[1;33m)\u001b[0m\u001b[1;33m\u001b[0m\u001b[1;33m\u001b[0m\u001b[0m\n\u001b[0m",
      "\u001b[1;31mAttributeError\u001b[0m: module 'seaborn' has no attribute 'correlation'"
     ]
    },
    {
     "data": {
      "image/png": "[encoded data removed]",
      "text/plain": [
       "<Figure size 432x288 with 1 Axes>"
      ]
     },
     "metadata": {
      "needs_background": "light"
     },
     "output_type": "display_data"
    },
    {
     "data": {
      "image/png": "[encoded data removed]",
      "text/plain": [
       "<Figure size 432x288 with 1 Axes>"
      ]
     },
     "metadata": {
      "needs_background": "light"
     },
     "output_type": "display_data"
    },
    {
     "data": {
      "image/png": "[encoded data removed]",
      "text/plain": [
       "<Figure size 432x288 with 1 Axes>"
      ]
     },
     "metadata": {
      "needs_background": "light"
     },
     "output_type": "display_data"
    },
    {
     "data": {
      "image/png": "[encoded data removed]",
      "text/plain": [
       "<Figure size 432x288 with 1 Axes>"
      ]
     },
     "metadata": {
      "needs_background": "light"
     },
     "output_type": "display_data"
    },
    {
     "data": {
      "text/plain": [
       "<Figure size 432x288 with 0 Axes>"
      ]
     },
     "metadata": {},
     "output_type": "display_data"
    }
   ],
   "source": [
    "plt.figure(1)\n",
    "ax = sns.countplot(df_dropped['countryCode'],hue=df_dropped['Late'])\n",
    "total = float(len(df_dropped['countryCode']))\n",
    "for p in ax.patches:\n",
    "    height = p.get_height()\n",
    "    ax.text(p.get_x()+p.get_width()/2.,\n",
    "            height + 3,\n",
    "            '{:1.2f}'.format(height/total),\n",
    "            ha=\"center\")\n",
    "plt.figure(2)\n",
    "ax = sns.countplot(df_dropped['InvoiceQuarter'],hue=df_dropped['Late'])\n",
    "total = float(len(df_dropped['InvoiceQuarter']))\n",
    "for p in ax.patches:\n",
    "    height = p.get_height()\n",
    "    ax.text(p.get_x()+p.get_width()/2.,\n",
    "            height + 3,\n",
    "            '{:1.2f}'.format(height/total),\n",
    "            ha=\"center\")\n",
    "plt.figure(3)\n",
    "ax = sns.countplot(df_dropped['PaperlessBill'],hue= df_dropped['Late'])\n",
    "total = float(len(df_dropped['PaperlessBill']))\n",
    "for p in ax.patches:\n",
    "    height = p.get_height()\n",
    "    ax.text(p.get_x()+p.get_width()/2.,\n",
    "            height + 3,\n",
    "            '{:1.2f}'.format(height/total),\n",
    "            ha=\"center\")\n",
    "plt.figure(4)\n",
    "ax= sns.countplot(df_dropped['Disputed'],hue=df_dropped['Late'])\n",
    "total = float(len(df_dropped['Disputed']))\n",
    "for p in ax.patches:\n",
    "    height = p.get_height()\n",
    "    ax.text(p.get_x()+p.get_width()/2.,\n",
    "            height + 3,\n",
    "            '{:1.2f}'.format(height/total),\n",
    "            ha=\"center\")\n",
    "    \n",
    "plt.figure(5)\n",
    "sns.correlation()\n"
   ]
  },
  {
   "cell_type": "markdown",
   "metadata": {},
   "source": [
    "#### Distributions of Invoice Amounts and Days to settle\n",
    "It may be useful to understand the distribution of some variables. This can be helpful if we wish to know within reasonable assumptions what our confidence intervals are for payments or how long it takes for a customer to settle."
   ]
  },
  {
   "cell_type": "code",
   "execution_count": 44,
   "metadata": {},
   "outputs": [
    {
     "data": {
      "text/plain": [
       "<matplotlib.axes._subplots.AxesSubplot at 0x1ab46cd3a90>"
      ]
     },
     "execution_count": 44,
     "metadata": {},
     "output_type": "execute_result"
    },
    {
     "data": {
      "image/png": "[encoded data removed]",
      "text/plain": [
       "<Figure size 432x288 with 1 Axes>"
      ]
     },
     "metadata": {
      "needs_background": "light"
     },
     "output_type": "display_data"
    },
    {
     "data": {
      "image/png": "[encoded data removed]",
      "text/plain": [
       "<Figure size 432x288 with 1 Axes>"
      ]
     },
     "metadata": {
      "needs_background": "light"
     },
     "output_type": "display_data"
    }
   ],
   "source": [
    "plt.figure(1)\n",
    "sns.distplot(df_original['InvoiceAmount'])\n",
    "plt.figure(2)\n",
    "sns.distplot(df_original['DaysToSettle'])"
   ]
  },
  {
   "cell_type": "markdown",
   "metadata": {},
   "source": [
    "Finally, label customers with integers for processing in models"
   ]
  },
  {
   "cell_type": "code",
   "execution_count": 45,
   "metadata": {},
   "outputs": [],
   "source": [
    "labels = df_dropped['customerID'].astype('category').cat.categories.tolist()\n",
    "replace_map_comp = {'customerID' : {k: v for k,v in zip(labels,list(range(1,len(labels)+1)))}}\n",
    "#replace the customerID with Integers\n",
    "df_dropped.replace(replace_map_comp, inplace=True)"
   ]
  },
  {
   "cell_type": "markdown",
   "metadata": {},
   "source": [
    "## Train a Model to Predict if a Payment will be late\n"
   ]
  },
  {
   "cell_type": "markdown",
   "metadata": {},
   "source": [
    "###                   Feature Selection\n",
    "Weight of Evidence or WOE is a good way to decide which variables to use for binary classification. It is a measure of how much a variable supports a given hypotheis(i.e. whether a customer will be late on payments). \n",
    "\n",
    "The source code is available at https://github.com/Sundar0989/WOE-and-IV. \n",
    "\n"
   ]
  },
  {
   "cell_type": "code",
   "execution_count": 46,
   "metadata": {},
   "outputs": [],
   "source": [
    "from woe_iv import *\n"
   ]
  },
  {
   "cell_type": "code",
   "execution_count": 47,
   "metadata": {},
   "outputs": [],
   "source": [
    "data_col = ['countryCode',\"InvoiceAmount\",\"PaperlessBill\",'InvoiceQuarter','customerID','Late','countlate']\n",
    "\n",
    "df1 = df_dropped[data_col]\n"
   ]
  },
  {
   "cell_type": "code",
   "execution_count": 48,
   "metadata": {},
   "outputs": [],
   "source": [
    "final_iv, IV = data_vars(df1 , df1['Late'])"
   ]
  },
  {
   "cell_type": "code",
   "execution_count": 49,
   "metadata": {},
   "outputs": [
    {
     "data": {
      "text/html": [
       "<div>\n",
       "<style scoped>\n",
       "    .dataframe tbody tr th:only-of-type {\n",
       "        vertical-align: middle;\n",
       "    }\n",
       "\n",
       "    .dataframe tbody tr th {\n",
       "        vertical-align: top;\n",
       "    }\n",
       "\n",
       "    .dataframe thead th {\n",
       "        text-align: right;\n",
       "    }\n",
       "</style>\n",
       "<table border=\"1\" class=\"dataframe\">\n",
       "  <thead>\n",
       "    <tr style=\"text-align: right;\">\n",
       "      <th></th>\n",
       "      <th>VAR_NAME</th>\n",
       "      <th>MIN_VALUE</th>\n",
       "      <th>MAX_VALUE</th>\n",
       "      <th>COUNT</th>\n",
       "      <th>EVENT</th>\n",
       "      <th>EVENT_RATE</th>\n",
       "      <th>NONEVENT</th>\n",
       "      <th>NON_EVENT_RATE</th>\n",
       "      <th>DIST_EVENT</th>\n",
       "      <th>DIST_NON_EVENT</th>\n",
       "      <th>WOE</th>\n",
       "      <th>IV</th>\n",
       "    </tr>\n",
       "  </thead>\n",
       "  <tbody>\n",
       "    <tr>\n",
       "      <th>11</th>\n",
       "      <td>countlate</td>\n",
       "      <td>0.00</td>\n",
       "      <td>1.00</td>\n",
       "      <td>1013</td>\n",
       "      <td>158</td>\n",
       "      <td>0.155972</td>\n",
       "      <td>855</td>\n",
       "      <td>0.844028</td>\n",
       "      <td>0.180160</td>\n",
       "      <td>0.538074</td>\n",
       "      <td>-1.094153</td>\n",
       "      <td>0.819416</td>\n",
       "    </tr>\n",
       "    <tr>\n",
       "      <th>12</th>\n",
       "      <td>countlate</td>\n",
       "      <td>2.00</td>\n",
       "      <td>5.00</td>\n",
       "      <td>690</td>\n",
       "      <td>236</td>\n",
       "      <td>0.342029</td>\n",
       "      <td>454</td>\n",
       "      <td>0.657971</td>\n",
       "      <td>0.269099</td>\n",
       "      <td>0.285714</td>\n",
       "      <td>-0.059912</td>\n",
       "      <td>0.819416</td>\n",
       "    </tr>\n",
       "    <tr>\n",
       "      <th>13</th>\n",
       "      <td>countlate</td>\n",
       "      <td>6.00</td>\n",
       "      <td>31.00</td>\n",
       "      <td>763</td>\n",
       "      <td>483</td>\n",
       "      <td>0.633028</td>\n",
       "      <td>280</td>\n",
       "      <td>0.366972</td>\n",
       "      <td>0.550741</td>\n",
       "      <td>0.176211</td>\n",
       "      <td>1.139580</td>\n",
       "      <td>0.819416</td>\n",
       "    </tr>\n",
       "    <tr>\n",
       "      <th>4</th>\n",
       "      <td>PaperlessBill</td>\n",
       "      <td>0.00</td>\n",
       "      <td>0.00</td>\n",
       "      <td>1263</td>\n",
       "      <td>546</td>\n",
       "      <td>0.432304</td>\n",
       "      <td>717</td>\n",
       "      <td>0.567696</td>\n",
       "      <td>0.622577</td>\n",
       "      <td>0.451227</td>\n",
       "      <td>0.321896</td>\n",
       "      <td>0.119296</td>\n",
       "    </tr>\n",
       "    <tr>\n",
       "      <th>5</th>\n",
       "      <td>PaperlessBill</td>\n",
       "      <td>1.00</td>\n",
       "      <td>1.00</td>\n",
       "      <td>1203</td>\n",
       "      <td>331</td>\n",
       "      <td>0.275145</td>\n",
       "      <td>872</td>\n",
       "      <td>0.724855</td>\n",
       "      <td>0.377423</td>\n",
       "      <td>0.548773</td>\n",
       "      <td>-0.374318</td>\n",
       "      <td>0.119296</td>\n",
       "    </tr>\n",
       "    <tr>\n",
       "      <th>6</th>\n",
       "      <td>InvoiceQuarter</td>\n",
       "      <td>1.00</td>\n",
       "      <td>2.00</td>\n",
       "      <td>1264</td>\n",
       "      <td>481</td>\n",
       "      <td>0.380538</td>\n",
       "      <td>783</td>\n",
       "      <td>0.619462</td>\n",
       "      <td>0.548461</td>\n",
       "      <td>0.492763</td>\n",
       "      <td>0.107088</td>\n",
       "      <td>0.014792</td>\n",
       "    </tr>\n",
       "    <tr>\n",
       "      <th>7</th>\n",
       "      <td>InvoiceQuarter</td>\n",
       "      <td>3.00</td>\n",
       "      <td>3.00</td>\n",
       "      <td>661</td>\n",
       "      <td>227</td>\n",
       "      <td>0.343419</td>\n",
       "      <td>434</td>\n",
       "      <td>0.656581</td>\n",
       "      <td>0.258837</td>\n",
       "      <td>0.273128</td>\n",
       "      <td>-0.053741</td>\n",
       "      <td>0.014792</td>\n",
       "    </tr>\n",
       "    <tr>\n",
       "      <th>8</th>\n",
       "      <td>InvoiceQuarter</td>\n",
       "      <td>4.00</td>\n",
       "      <td>4.00</td>\n",
       "      <td>541</td>\n",
       "      <td>169</td>\n",
       "      <td>0.312384</td>\n",
       "      <td>372</td>\n",
       "      <td>0.687616</td>\n",
       "      <td>0.192702</td>\n",
       "      <td>0.234110</td>\n",
       "      <td>-0.194642</td>\n",
       "      <td>0.014792</td>\n",
       "    </tr>\n",
       "    <tr>\n",
       "      <th>2</th>\n",
       "      <td>InvoiceAmount</td>\n",
       "      <td>5.26</td>\n",
       "      <td>60.55</td>\n",
       "      <td>1233</td>\n",
       "      <td>419</td>\n",
       "      <td>0.339822</td>\n",
       "      <td>814</td>\n",
       "      <td>0.660178</td>\n",
       "      <td>0.477765</td>\n",
       "      <td>0.512272</td>\n",
       "      <td>-0.069736</td>\n",
       "      <td>0.004765</td>\n",
       "    </tr>\n",
       "    <tr>\n",
       "      <th>3</th>\n",
       "      <td>InvoiceAmount</td>\n",
       "      <td>60.57</td>\n",
       "      <td>128.28</td>\n",
       "      <td>1233</td>\n",
       "      <td>458</td>\n",
       "      <td>0.371452</td>\n",
       "      <td>775</td>\n",
       "      <td>0.628548</td>\n",
       "      <td>0.522235</td>\n",
       "      <td>0.487728</td>\n",
       "      <td>0.068359</td>\n",
       "      <td>0.004765</td>\n",
       "    </tr>\n",
       "    <tr>\n",
       "      <th>0</th>\n",
       "      <td>countryCode</td>\n",
       "      <td>391.00</td>\n",
       "      <td>770.00</td>\n",
       "      <td>1683</td>\n",
       "      <td>586</td>\n",
       "      <td>0.348188</td>\n",
       "      <td>1097</td>\n",
       "      <td>0.651812</td>\n",
       "      <td>0.668187</td>\n",
       "      <td>0.690371</td>\n",
       "      <td>-0.032661</td>\n",
       "      <td>0.002260</td>\n",
       "    </tr>\n",
       "    <tr>\n",
       "      <th>1</th>\n",
       "      <td>countryCode</td>\n",
       "      <td>818.00</td>\n",
       "      <td>897.00</td>\n",
       "      <td>783</td>\n",
       "      <td>291</td>\n",
       "      <td>0.371648</td>\n",
       "      <td>492</td>\n",
       "      <td>0.628352</td>\n",
       "      <td>0.331813</td>\n",
       "      <td>0.309629</td>\n",
       "      <td>0.069198</td>\n",
       "      <td>0.002260</td>\n",
       "    </tr>\n",
       "    <tr>\n",
       "      <th>9</th>\n",
       "      <td>customerID</td>\n",
       "      <td>1.00</td>\n",
       "      <td>51.00</td>\n",
       "      <td>1237</td>\n",
       "      <td>448</td>\n",
       "      <td>0.362167</td>\n",
       "      <td>789</td>\n",
       "      <td>0.637833</td>\n",
       "      <td>0.510832</td>\n",
       "      <td>0.496539</td>\n",
       "      <td>0.028380</td>\n",
       "      <td>0.000817</td>\n",
       "    </tr>\n",
       "    <tr>\n",
       "      <th>10</th>\n",
       "      <td>customerID</td>\n",
       "      <td>52.00</td>\n",
       "      <td>100.00</td>\n",
       "      <td>1229</td>\n",
       "      <td>429</td>\n",
       "      <td>0.349064</td>\n",
       "      <td>800</td>\n",
       "      <td>0.650936</td>\n",
       "      <td>0.489168</td>\n",
       "      <td>0.503461</td>\n",
       "      <td>-0.028802</td>\n",
       "      <td>0.000817</td>\n",
       "    </tr>\n",
       "  </tbody>\n",
       "</table>\n",
       "</div>"
      ],
      "text/plain": [
       "          VAR_NAME  MIN_VALUE  MAX_VALUE  COUNT  EVENT  EVENT_RATE  NONEVENT  \\\n",
       "11       countlate       0.00       1.00   1013    158    0.155972       855   \n",
       "12       countlate       2.00       5.00    690    236    0.342029       454   \n",
       "13       countlate       6.00      31.00    763    483    0.633028       280   \n",
       "4    PaperlessBill       0.00       0.00   1263    546    0.432304       717   \n",
       "5    PaperlessBill       1.00       1.00   1203    331    0.275145       872   \n",
       "6   InvoiceQuarter       1.00       2.00   1264    481    0.380538       783   \n",
       "7   InvoiceQuarter       3.00       3.00    661    227    0.343419       434   \n",
       "8   InvoiceQuarter       4.00       4.00    541    169    0.312384       372   \n",
       "2    InvoiceAmount       5.26      60.55   1233    419    0.339822       814   \n",
       "3    InvoiceAmount      60.57     128.28   1233    458    0.371452       775   \n",
       "0      countryCode     391.00     770.00   1683    586    0.348188      1097   \n",
       "1      countryCode     818.00     897.00    783    291    0.371648       492   \n",
       "9       customerID       1.00      51.00   1237    448    0.362167       789   \n",
       "10      customerID      52.00     100.00   1229    429    0.349064       800   \n",
       "\n",
       "    NON_EVENT_RATE  DIST_EVENT  DIST_NON_EVENT       WOE        IV  \n",
       "11        0.844028    0.180160        0.538074 -1.094153  0.819416  \n",
       "12        0.657971    0.269099        0.285714 -0.059912  0.819416  \n",
       "13        0.366972    0.550741        0.176211  1.139580  0.819416  \n",
       "4         0.567696    0.622577        0.451227  0.321896  0.119296  \n",
       "5         0.724855    0.377423        0.548773 -0.374318  0.119296  \n",
       "6         0.619462    0.548461        0.492763  0.107088  0.014792  \n",
       "7         0.656581    0.258837        0.273128 -0.053741  0.014792  \n",
       "8         0.687616    0.192702        0.234110 -0.194642  0.014792  \n",
       "2         0.660178    0.477765        0.512272 -0.069736  0.004765  \n",
       "3         0.628548    0.522235        0.487728  0.068359  0.004765  \n",
       "0         0.651812    0.668187        0.690371 -0.032661  0.002260  \n",
       "1         0.628352    0.331813        0.309629  0.069198  0.002260  \n",
       "9         0.637833    0.510832        0.496539  0.028380  0.000817  \n",
       "10        0.650936    0.489168        0.503461 -0.028802  0.000817  "
      ]
     },
     "execution_count": 49,
     "metadata": {},
     "output_type": "execute_result"
    }
   ],
   "source": [
    "final_iv.sort_values(by=['IV'], ascending = False)"
   ]
  },
  {
   "cell_type": "code",
   "execution_count": 50,
   "metadata": {},
   "outputs": [],
   "source": [
    "features = [\"PaperlessBill\",'InvoiceQuarter','countlate','InvoiceAmount','countryCode','customerID',]"
   ]
  },
  {
   "cell_type": "markdown",
   "metadata": {},
   "source": [
    "## Training Models and Evaluating"
   ]
  },
  {
   "cell_type": "code",
   "execution_count": 51,
   "metadata": {},
   "outputs": [],
   "source": [
    "from sklearn.model_selection import train_test_split\n",
    "from sklearn.linear_model import LogisticRegression,LinearRegression\n",
    "from sklearn.neighbors import KNeighborsClassifier\n",
    "from sklearn.ensemble import RandomForestClassifier\n",
    "from sklearn.datasets import make_classification\n",
    "from sklearn.metrics import confusion_matrix, accuracy_score, auc, roc_curve, classification_report\n",
    "knn= KNeighborsClassifier(n_neighbors=10)\n",
    "lg = LogisticRegression(solver = 'liblinear')\n",
    "rf = RandomForestClassifier()"
   ]
  },
  {
   "cell_type": "code",
   "execution_count": 52,
   "metadata": {},
   "outputs": [],
   "source": [
    "\n",
    "X = df_dropped[features]\n",
    "y = df_dropped['Late']"
   ]
  },
  {
   "cell_type": "code",
   "execution_count": 53,
   "metadata": {},
   "outputs": [],
   "source": [
    "X_train,X_test,y_Train,y_test = train_test_split(X,y,random_state=0)"
   ]
  },
  {
   "cell_type": "code",
   "execution_count": 54,
   "metadata": {},
   "outputs": [
    {
     "name": "stdout",
     "output_type": "stream",
     "text": [
      "Logistic Regression\n",
      "              precision    recall  f1-score   support\n",
      "\n",
      "           0       0.73      0.87      0.79       387\n",
      "           1       0.68      0.46      0.55       230\n",
      "\n",
      "    accuracy                           0.72       617\n",
      "   macro avg       0.70      0.66      0.67       617\n",
      "weighted avg       0.71      0.72      0.70       617\n",
      "\n",
      "K Nearest Neighbor\n",
      "              precision    recall  f1-score   support\n",
      "\n",
      "           0       0.71      0.88      0.79       387\n",
      "           1       0.67      0.40      0.50       230\n",
      "\n",
      "    accuracy                           0.70       617\n",
      "   macro avg       0.69      0.64      0.64       617\n",
      "weighted avg       0.70      0.70      0.68       617\n",
      "\n",
      "Random Forest\n",
      "              precision    recall  f1-score   support\n",
      "\n",
      "           0       0.75      0.89      0.81       387\n",
      "           1       0.72      0.50      0.59       230\n",
      "\n",
      "    accuracy                           0.74       617\n",
      "   macro avg       0.74      0.69      0.70       617\n",
      "weighted avg       0.74      0.74      0.73       617\n",
      "\n"
     ]
    },
    {
     "name": "stderr",
     "output_type": "stream",
     "text": [
      "C:\\Users\\hknighton\\AppData\\Local\\Continuum\\anaconda3\\lib\\site-packages\\sklearn\\ensemble\\forest.py:245: FutureWarning: The default value of n_estimators will change from 10 in version 0.20 to 100 in 0.22.\n",
      "  \"10 in version 0.20 to 100 in 0.22.\", FutureWarning)\n"
     ]
    }
   ],
   "source": [
    "model1 = lg.fit(X_train,y_Train)\n",
    "prediction = lg.predict(X_test)\n",
    "model2 = knn.fit(X_train,y_Train)\n",
    "prediction2 = model2.predict(X_test)\n",
    "model3= rf.fit(X_train,y_Train)\n",
    "prediction3 = model3.predict(X_test)\n",
    "print(\"Logistic Regression\")\n",
    "print(classification_report(y_test,prediction))\n",
    "print(\"K Nearest Neighbor\")\n",
    "print(classification_report(y_test,prediction2))\n",
    "print(\"Random Forest\")\n",
    "print(classification_report(y_test,prediction3))"
   ]
  },
  {
   "cell_type": "code",
   "execution_count": 55,
   "metadata": {},
   "outputs": [
    {
     "name": "stdout",
     "output_type": "stream",
     "text": [
      "[[337  50]\n",
      " [125 105]]\n",
      "[[341  46]\n",
      " [138  92]]\n"
     ]
    },
    {
     "data": {
      "text/plain": [
       "0.7017828200972447"
      ]
     },
     "execution_count": 55,
     "metadata": {},
     "output_type": "execute_result"
    }
   ],
   "source": [
    "print(confusion_matrix(y_test,prediction))\n",
    "print(confusion_matrix(y_test,prediction2))\n",
    "knn.score(X_test,y_test)\n",
    "\n"
   ]
  },
  {
   "cell_type": "markdown",
   "metadata": {},
   "source": [
    "Test the Generalization of the Model"
   ]
  },
  {
   "cell_type": "code",
   "execution_count": 56,
   "metadata": {},
   "outputs": [
    {
     "name": "stdout",
     "output_type": "stream",
     "text": [
      "Nearest Neighbor Results:\n",
      "Mean: 0.7251061518712353\n",
      "STEV: 0.04200096176063161\n"
     ]
    }
   ],
   "source": [
    "scores = []\n",
    "from sklearn.model_selection import KFold\n",
    "N_FOLDS = 10\n",
    "kf = KFold(n_splits= N_FOLDS, shuffle = False, random_state = 0)\n",
    "for train_index, test_index in kf.split(X):\n",
    "    X_train, X_test = X.iloc[train_index], X.iloc[test_index]\n",
    "    y_train, y_test = y.iloc[train_index], y.iloc[test_index]\n",
    "    clf = KNeighborsClassifier()\n",
    "    clf.fit(X_train,y_train)\n",
    "    scores.append(clf.score(X_test,y_test))\n",
    "print(\"Nearest Neighbor Results:\")   \n",
    "print(\"Mean:\", np.mean(scores))\n",
    "print(\"STEV:\", np.std(scores))"
   ]
  },
  {
   "cell_type": "code",
   "execution_count": 57,
   "metadata": {},
   "outputs": [
    {
     "name": "stdout",
     "output_type": "stream",
     "text": [
      "Logistic Regression Results: 0.01\n",
      "Mean: 0.7186926039300879\n",
      "STEV: 0.08364189605413898\n",
      "Logistic Regression Results: 0.1\n",
      "Mean: 0.7340986142654949\n",
      "STEV: 0.08222802509625955\n",
      "Logistic Regression Results: 0.5\n",
      "Mean: 0.7381488430268918\n",
      "STEV: 0.08175072215070339\n",
      "Logistic Regression Results: 1\n",
      "Mean: 0.7385520555610414\n",
      "STEV: 0.0806632214847043\n",
      "Logistic Regression Results: 5\n",
      "Mean: 0.7389552680951911\n",
      "STEV: 0.0804032270673986\n",
      "Logistic Regression Results: 10\n",
      "Mean: 0.7381439057305552\n",
      "STEV: 0.07995031422350678\n",
      "Logistic Regression Results: 100\n",
      "Mean: 0.7381439057305552\n",
      "STEV: 0.07995031422350678\n"
     ]
    }
   ],
   "source": [
    "scores = []\n",
    "N_FOLDS = 10\n",
    "c_res ={}\n",
    "c_list=[0.01,.1,.5,1,5,10,100]\n",
    "kf = KFold(n_splits= N_FOLDS, shuffle = False, random_state = 0)\n",
    "for c in c_list:\n",
    "    for train_index, test_index in kf.split(X):\n",
    "        X_train, X_test = X.iloc[train_index], X.iloc[test_index]\n",
    "        y_train, y_test = y.iloc[train_index], y.iloc[test_index]\n",
    "        clf = LogisticRegression(solver = 'liblinear', C = c)\n",
    "        clf.fit(X_train,y_train)\n",
    "        scores.append(clf.score(X_test,y_test))\n",
    "\n",
    "    print(\"Logistic Regression Results: {}\".format(c))    \n",
    "    print(\"Mean:\", np.mean(scores))\n",
    "    print(\"STEV:\", np.std(scores))\n",
    "    c_res[c] = np.mean(scores)\n",
    "    scores=[]\n",
    "      "
   ]
  },
  {
   "cell_type": "code",
   "execution_count": 58,
   "metadata": {},
   "outputs": [
    {
     "name": "stdout",
     "output_type": "stream",
     "text": [
      "Mean: 0.7376863829367037\n",
      "STEV: 0.05237209665292355\n"
     ]
    }
   ],
   "source": [
    "scores = []\n",
    "N_FOLDS = 10\n",
    "kf = KFold(n_splits= N_FOLDS, shuffle = False, random_state = 0)\n",
    "for train_index, test_index in kf.split(X):\n",
    "    X_train, X_test = X.iloc[train_index], X.iloc[test_index]\n",
    "    y_train, y_test = y.iloc[train_index], y.iloc[test_index]\n",
    "    clf = RandomForestClassifier(n_estimators = len(features))\n",
    "    clf.fit(X_train,y_train)\n",
    "    scores.append(clf.score(X_test,y_test))\n",
    "\n",
    "  \n",
    "print(\"Mean:\", np.mean(scores))\n",
    "print(\"STEV:\", np.std(scores))"
   ]
  },
  {
   "cell_type": "markdown",
   "metadata": {},
   "source": [
    "AUC curve to see "
   ]
  },
  {
   "cell_type": "code",
   "execution_count": 59,
   "metadata": {},
   "outputs": [],
   "source": [
    "from sklearn.metrics import precision_recall_curve, roc_curve, auc, classification_report\n",
    "from scipy import interp"
   ]
  },
  {
   "cell_type": "code",
   "execution_count": 60,
   "metadata": {},
   "outputs": [],
   "source": [
    "def auc_curve(X,y,classifier):\n",
    "    X = np.array(X)\n",
    "    y = np.array(y)\n",
    "\n",
    "    tprs = []\n",
    "    aucs = []\n",
    "    mean_fpr = np.linspace(0, 1, 100)\n",
    "\n",
    "    i = 0\n",
    "    classifier = classifier\n",
    "    for train, test in kf.split(X, y):\n",
    "        probas_ = classifier.fit(X[train], y[train]).predict_proba(X[test])\n",
    "        # Compute ROC curve and area the curve\n",
    "        fpr, tpr, thresholds = roc_curve(y[test], probas_[:, 1])\n",
    "        tprs.append(interp(mean_fpr, fpr, tpr))\n",
    "        tprs[-1][0] = 0.0\n",
    "        roc_auc = auc(fpr, tpr)\n",
    "        aucs.append(roc_auc)\n",
    "        plt.plot(fpr, tpr, lw=1, alpha=0.3,\n",
    "                 label='ROC fold %d (AUC = %0.2f)' % (i, roc_auc))\n",
    "\n",
    "        i += 1\n",
    "    plt.figure(figsize=(8,8))\n",
    "    plt.plot([0, 1], [0, 1], linestyle='--', lw=2, color='r',\n",
    "             label='Chance', alpha=.8)\n",
    "\n",
    "    mean_tpr = np.mean(tprs, axis=0)\n",
    "    mean_tpr[-1] = 1.0\n",
    "    mean_auc = auc(mean_fpr, mean_tpr)\n",
    "    std_auc = np.std(aucs)\n",
    "    plt.plot(mean_fpr, mean_tpr, color='b',\n",
    "             label=r'Mean ROC (AUC = %0.2f $\\pm$ %0.2f)' % (mean_auc, std_auc),\n",
    "             lw=2, alpha=.8)\n",
    "\n",
    "    std_tpr = np.std(tprs, axis=0)\n",
    "    tprs_upper = np.minimum(mean_tpr + std_tpr, 1)\n",
    "    tprs_lower = np.maximum(mean_tpr - std_tpr, 0)\n",
    "    plt.fill_between(mean_fpr, tprs_lower, tprs_upper, color='grey', alpha=.2,\n",
    "                     label=r'$\\pm$ 1 std. dev.')\n",
    "\n",
    "    plt.xlim([-0.05, 1.05])\n",
    "    plt.ylim([-0.05, 1.05])\n",
    "    plt.xlabel('False Positive Rate')\n",
    "    plt.ylabel('True Positive Rate')\n",
    "    plt.title('Receiver operating characteristic example')\n",
    "    plt.legend(loc=\"lower right\")\n",
    "    plt.show()"
   ]
  },
  {
   "cell_type": "code",
   "execution_count": 64,
   "metadata": {},
   "outputs": [
    {
     "data": {
      "image/png": "[encoded data removed]",
      "text/plain": [
       "<Figure size 432x288 with 1 Axes>"
      ]
     },
     "metadata": {
      "needs_background": "light"
     },
     "output_type": "display_data"
    },
    {
     "data": {
      "image/png": "[encoded data removed]",
      "text/plain": [
       "<Figure size 576x576 with 1 Axes>"
      ]
     },
     "metadata": {
      "needs_background": "light"
     },
     "output_type": "display_data"
    },
    {
     "data": {
      "image/png": "[encoded data removed]",
      "text/plain": [
       "<Figure size 432x288 with 1 Axes>"
      ]
     },
     "metadata": {
      "needs_background": "light"
     },
     "output_type": "display_data"
    },
    {
     "data": {
      "image/png": "[encoded data removed]",
      "text/plain": [
       "<Figure size 576x576 with 1 Axes>"
      ]
     },
     "metadata": {
      "needs_background": "light"
     },
     "output_type": "display_data"
    },
    {
     "data": {
      "image/png": "[encoded data removed]",
      "text/plain": [
       "<Figure size 432x288 with 1 Axes>"
      ]
     },
     "metadata": {
      "needs_background": "light"
     },
     "output_type": "display_data"
    },
    {
     "data": {
      "image/png": "[encoded data removed]",
      "text/plain": [
       "<Figure size 576x576 with 1 Axes>"
      ]
     },
     "metadata": {
      "needs_background": "light"
     },
     "output_type": "display_data"
    }
   ],
   "source": [
    "auc_curve(X,y,knn)\n",
    "auc_curve(X,y,lg)\n",
    "auc_curve(X,y,lg)\n"
   ]
  },
  {
   "cell_type": "markdown",
   "metadata": {},
   "source": [
    "The logistic regression model and random forest have a higher accuracy than KNN. It also has a higher variance in outcome. While the accuracy of this model may not be as high as we like it does demonstrate a simple dataset can provide useful insights for regular business operations. "
   ]
  },
  {
   "cell_type": "markdown",
   "metadata": {},
   "source": [
    "## Report the coefficients to be used  deployment by Billing/Accounting Departments"
   ]
  },
  {
   "cell_type": "code",
   "execution_count": 41,
   "metadata": {},
   "outputs": [
    {
     "name": "stdout",
     "output_type": "stream",
     "text": [
      "{'PaperlessBill': -1.7751627350876933, 'InvoiceQuarter': -0.27012282623398426, 'countlate': 0.2545294520116581, 'InvoiceAmount': 0.009041279634239835, 'countryCode': 0.0004987604204965207, 'customerID': -0.0009612658179526422}\n"
     ]
    }
   ],
   "source": [
    "coef_dict={}\n",
    "for coef, feat in zip(model1.coef_[0,:],features):\n",
    "    coef_dict[feat] = coef\n",
    "    \n",
    "print(coef_dict)"
   ]
  },
  {
   "cell_type": "code",
   "execution_count": null,
   "metadata": {},
   "outputs": [],
   "source": []
  },
  {
   "cell_type": "code",
   "execution_count": null,
   "metadata": {},
   "outputs": [],
   "source": []
  },
  {
   "cell_type": "code",
   "execution_count": null,
   "metadata": {},
   "outputs": [],
   "source": []
  }
 ],
 "metadata": {
  "kernelspec": {
   "display_name": "Python 3",
   "language": "python",
   "name": "python3"
  },
  "language_info": {
   "codemirror_mode": {
    "name": "ipython",
    "version": 3
   },
   "file_extension": ".py",
   "mimetype": "text/x-python",
   "name": "python",
   "nbconvert_exporter": "python",
   "pygments_lexer": "ipython3",
   "version": "3.7.3"
  }
 },
 "nbformat": 4,
 "nbformat_minor": 2
}
